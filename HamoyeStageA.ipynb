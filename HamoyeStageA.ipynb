{
  "nbformat": 4,
  "nbformat_minor": 0,
  "metadata": {
    "colab": {
      "name": "Untitled8.ipynb",
      "provenance": [],
      "collapsed_sections": [],
      "authorship_tag": "ABX9TyM+l7kM3VdEk0+ZaFEAyGSe",
      "include_colab_link": true
    },
    "kernelspec": {
      "name": "python3",
      "display_name": "Python 3"
    },
    "language_info": {
      "name": "python"
    }
  },
  "cells": [
    {
      "cell_type": "markdown",
      "metadata": {
        "id": "view-in-github",
        "colab_type": "text"
      },
      "source": [
        "<a href=\"https://colab.research.google.com/github/Nerdward/Ml-Projects/blob/main/HamoyeStageA.ipynb\" target=\"_parent\"><img src=\"https://colab.research.google.com/assets/colab-badge.svg\" alt=\"Open In Colab\"/></a>"
      ]
    },
    {
      "cell_type": "code",
      "source": [
        "import pandas as pd\n",
        "import numpy as np"
      ],
      "metadata": {
        "id": "tATlEvgGgEmZ"
      },
      "execution_count": 8,
      "outputs": []
    },
    {
      "cell_type": "code",
      "source": [
        "df = pd.read_csv('FoodBalanceSheets_E_Africa_NOFLAG.csv', encoding='latin-1')"
      ],
      "metadata": {
        "id": "4MjzCnFLgX_a"
      },
      "execution_count": 4,
      "outputs": []
    },
    {
      "cell_type": "code",
      "source": [
        "df.head()"
      ],
      "metadata": {
        "colab": {
          "base_uri": "https://localhost:8080/",
          "height": 409
        },
        "id": "C0ocFTomggGe",
        "outputId": "4355f4b9-1cc9-4971-e805-c547cd3c0542"
      },
      "execution_count": 18,
      "outputs": [
        {
          "output_type": "execute_result",
          "data": {
            "text/html": [
              "\n",
              "  <div id=\"df-c193cc32-d398-4f0d-b2a2-2e7094896ebb\">\n",
              "    <div class=\"colab-df-container\">\n",
              "      <div>\n",
              "<style scoped>\n",
              "    .dataframe tbody tr th:only-of-type {\n",
              "        vertical-align: middle;\n",
              "    }\n",
              "\n",
              "    .dataframe tbody tr th {\n",
              "        vertical-align: top;\n",
              "    }\n",
              "\n",
              "    .dataframe thead th {\n",
              "        text-align: right;\n",
              "    }\n",
              "</style>\n",
              "<table border=\"1\" class=\"dataframe\">\n",
              "  <thead>\n",
              "    <tr style=\"text-align: right;\">\n",
              "      <th></th>\n",
              "      <th>Area Code</th>\n",
              "      <th>Area</th>\n",
              "      <th>Item Code</th>\n",
              "      <th>Item</th>\n",
              "      <th>Element Code</th>\n",
              "      <th>Element</th>\n",
              "      <th>Unit</th>\n",
              "      <th>Y2014</th>\n",
              "      <th>Y2015</th>\n",
              "      <th>Y2016</th>\n",
              "      <th>Y2017</th>\n",
              "      <th>Y2018</th>\n",
              "    </tr>\n",
              "  </thead>\n",
              "  <tbody>\n",
              "    <tr>\n",
              "      <th>0</th>\n",
              "      <td>4</td>\n",
              "      <td>Algeria</td>\n",
              "      <td>2501</td>\n",
              "      <td>Population</td>\n",
              "      <td>511</td>\n",
              "      <td>Total Population - Both sexes</td>\n",
              "      <td>1000 persons</td>\n",
              "      <td>38924.00</td>\n",
              "      <td>39728.00</td>\n",
              "      <td>40551.00</td>\n",
              "      <td>41389.00</td>\n",
              "      <td>42228.00</td>\n",
              "    </tr>\n",
              "    <tr>\n",
              "      <th>1</th>\n",
              "      <td>4</td>\n",
              "      <td>Algeria</td>\n",
              "      <td>2501</td>\n",
              "      <td>Population</td>\n",
              "      <td>5301</td>\n",
              "      <td>Domestic supply quantity</td>\n",
              "      <td>1000 tonnes</td>\n",
              "      <td>0.00</td>\n",
              "      <td>0.00</td>\n",
              "      <td>0.00</td>\n",
              "      <td>0.00</td>\n",
              "      <td>0.00</td>\n",
              "    </tr>\n",
              "    <tr>\n",
              "      <th>2</th>\n",
              "      <td>4</td>\n",
              "      <td>Algeria</td>\n",
              "      <td>2901</td>\n",
              "      <td>Grand Total</td>\n",
              "      <td>664</td>\n",
              "      <td>Food supply (kcal/capita/day)</td>\n",
              "      <td>kcal/capita/day</td>\n",
              "      <td>3377.00</td>\n",
              "      <td>3379.00</td>\n",
              "      <td>3372.00</td>\n",
              "      <td>3341.00</td>\n",
              "      <td>3322.00</td>\n",
              "    </tr>\n",
              "    <tr>\n",
              "      <th>3</th>\n",
              "      <td>4</td>\n",
              "      <td>Algeria</td>\n",
              "      <td>2901</td>\n",
              "      <td>Grand Total</td>\n",
              "      <td>674</td>\n",
              "      <td>Protein supply quantity (g/capita/day)</td>\n",
              "      <td>g/capita/day</td>\n",
              "      <td>94.90</td>\n",
              "      <td>94.35</td>\n",
              "      <td>94.72</td>\n",
              "      <td>92.82</td>\n",
              "      <td>91.83</td>\n",
              "    </tr>\n",
              "    <tr>\n",
              "      <th>4</th>\n",
              "      <td>4</td>\n",
              "      <td>Algeria</td>\n",
              "      <td>2901</td>\n",
              "      <td>Grand Total</td>\n",
              "      <td>684</td>\n",
              "      <td>Fat supply quantity (g/capita/day)</td>\n",
              "      <td>g/capita/day</td>\n",
              "      <td>80.06</td>\n",
              "      <td>79.36</td>\n",
              "      <td>77.40</td>\n",
              "      <td>80.19</td>\n",
              "      <td>77.28</td>\n",
              "    </tr>\n",
              "  </tbody>\n",
              "</table>\n",
              "</div>\n",
              "      <button class=\"colab-df-convert\" onclick=\"convertToInteractive('df-c193cc32-d398-4f0d-b2a2-2e7094896ebb')\"\n",
              "              title=\"Convert this dataframe to an interactive table.\"\n",
              "              style=\"display:none;\">\n",
              "        \n",
              "  <svg xmlns=\"http://www.w3.org/2000/svg\" height=\"24px\"viewBox=\"0 0 24 24\"\n",
              "       width=\"24px\">\n",
              "    <path d=\"M0 0h24v24H0V0z\" fill=\"none\"/>\n",
              "    <path d=\"M18.56 5.44l.94 2.06.94-2.06 2.06-.94-2.06-.94-.94-2.06-.94 2.06-2.06.94zm-11 1L8.5 8.5l.94-2.06 2.06-.94-2.06-.94L8.5 2.5l-.94 2.06-2.06.94zm10 10l.94 2.06.94-2.06 2.06-.94-2.06-.94-.94-2.06-.94 2.06-2.06.94z\"/><path d=\"M17.41 7.96l-1.37-1.37c-.4-.4-.92-.59-1.43-.59-.52 0-1.04.2-1.43.59L10.3 9.45l-7.72 7.72c-.78.78-.78 2.05 0 2.83L4 21.41c.39.39.9.59 1.41.59.51 0 1.02-.2 1.41-.59l7.78-7.78 2.81-2.81c.8-.78.8-2.07 0-2.86zM5.41 20L4 18.59l7.72-7.72 1.47 1.35L5.41 20z\"/>\n",
              "  </svg>\n",
              "      </button>\n",
              "      \n",
              "  <style>\n",
              "    .colab-df-container {\n",
              "      display:flex;\n",
              "      flex-wrap:wrap;\n",
              "      gap: 12px;\n",
              "    }\n",
              "\n",
              "    .colab-df-convert {\n",
              "      background-color: #E8F0FE;\n",
              "      border: none;\n",
              "      border-radius: 50%;\n",
              "      cursor: pointer;\n",
              "      display: none;\n",
              "      fill: #1967D2;\n",
              "      height: 32px;\n",
              "      padding: 0 0 0 0;\n",
              "      width: 32px;\n",
              "    }\n",
              "\n",
              "    .colab-df-convert:hover {\n",
              "      background-color: #E2EBFA;\n",
              "      box-shadow: 0px 1px 2px rgba(60, 64, 67, 0.3), 0px 1px 3px 1px rgba(60, 64, 67, 0.15);\n",
              "      fill: #174EA6;\n",
              "    }\n",
              "\n",
              "    [theme=dark] .colab-df-convert {\n",
              "      background-color: #3B4455;\n",
              "      fill: #D2E3FC;\n",
              "    }\n",
              "\n",
              "    [theme=dark] .colab-df-convert:hover {\n",
              "      background-color: #434B5C;\n",
              "      box-shadow: 0px 1px 3px 1px rgba(0, 0, 0, 0.15);\n",
              "      filter: drop-shadow(0px 1px 2px rgba(0, 0, 0, 0.3));\n",
              "      fill: #FFFFFF;\n",
              "    }\n",
              "  </style>\n",
              "\n",
              "      <script>\n",
              "        const buttonEl =\n",
              "          document.querySelector('#df-c193cc32-d398-4f0d-b2a2-2e7094896ebb button.colab-df-convert');\n",
              "        buttonEl.style.display =\n",
              "          google.colab.kernel.accessAllowed ? 'block' : 'none';\n",
              "\n",
              "        async function convertToInteractive(key) {\n",
              "          const element = document.querySelector('#df-c193cc32-d398-4f0d-b2a2-2e7094896ebb');\n",
              "          const dataTable =\n",
              "            await google.colab.kernel.invokeFunction('convertToInteractive',\n",
              "                                                     [key], {});\n",
              "          if (!dataTable) return;\n",
              "\n",
              "          const docLinkHtml = 'Like what you see? Visit the ' +\n",
              "            '<a target=\"_blank\" href=https://colab.research.google.com/notebooks/data_table.ipynb>data table notebook</a>'\n",
              "            + ' to learn more about interactive tables.';\n",
              "          element.innerHTML = '';\n",
              "          dataTable['output_type'] = 'display_data';\n",
              "          await google.colab.output.renderOutput(dataTable, element);\n",
              "          const docLink = document.createElement('div');\n",
              "          docLink.innerHTML = docLinkHtml;\n",
              "          element.appendChild(docLink);\n",
              "        }\n",
              "      </script>\n",
              "    </div>\n",
              "  </div>\n",
              "  "
            ],
            "text/plain": [
              "   Area Code     Area  Item Code  ...     Y2016     Y2017     Y2018\n",
              "0          4  Algeria       2501  ...  40551.00  41389.00  42228.00\n",
              "1          4  Algeria       2501  ...      0.00      0.00      0.00\n",
              "2          4  Algeria       2901  ...   3372.00   3341.00   3322.00\n",
              "3          4  Algeria       2901  ...     94.72     92.82     91.83\n",
              "4          4  Algeria       2901  ...     77.40     80.19     77.28\n",
              "\n",
              "[5 rows x 12 columns]"
            ]
          },
          "metadata": {},
          "execution_count": 18
        }
      ]
    },
    {
      "cell_type": "code",
      "source": [
        "df.groupby('Item').sum().loc['Animal fats','Y2014':]"
      ],
      "metadata": {
        "colab": {
          "base_uri": "https://localhost:8080/"
        },
        "id": "xlocfgK_kcI0",
        "outputId": "6f7c0445-076a-49bd-e96a-fee53dead86f"
      },
      "execution_count": 31,
      "outputs": [
        {
          "output_type": "execute_result",
          "data": {
            "text/plain": [
              "Y2014    209460.54\n",
              "Y2015    200675.72\n",
              "Y2016    183314.22\n",
              "Y2017    269617.53\n",
              "Y2018    269648.27\n",
              "Name: Animal fats, dtype: float64"
            ]
          },
          "metadata": {},
          "execution_count": 31
        }
      ]
    },
    {
      "cell_type": "code",
      "source": [
        "df['Y2015'].mean()"
      ],
      "metadata": {
        "colab": {
          "base_uri": "https://localhost:8080/"
        },
        "id": "P_PauY-7l9aL",
        "outputId": "1c31dd16-7e2c-414f-85c5-ce2f98ac3b83"
      },
      "execution_count": 35,
      "outputs": [
        {
          "output_type": "execute_result",
          "data": {
            "text/plain": [
              "135.23596649549236"
            ]
          },
          "metadata": {},
          "execution_count": 35
        }
      ]
    },
    {
      "cell_type": "code",
      "source": [
        "df['Y2015'].std()"
      ],
      "metadata": {
        "colab": {
          "base_uri": "https://localhost:8080/"
        },
        "id": "RNoPn8G4m-bl",
        "outputId": "13859da1-1d8f-44ec-a81c-df35a8762cba"
      },
      "execution_count": 36,
      "outputs": [
        {
          "output_type": "execute_result",
          "data": {
            "text/plain": [
              "1603.4039839423301"
            ]
          },
          "metadata": {},
          "execution_count": 36
        }
      ]
    },
    {
      "cell_type": "code",
      "source": [
        "df['Y2016'].isnull().sum()"
      ],
      "metadata": {
        "colab": {
          "base_uri": "https://localhost:8080/"
        },
        "id": "PcXVILr2nCYi",
        "outputId": "7027bb15-f56e-4ecb-8aff-39f9161818e5"
      },
      "execution_count": 44,
      "outputs": [
        {
          "output_type": "execute_result",
          "data": {
            "text/plain": [
              "1535"
            ]
          },
          "metadata": {},
          "execution_count": 44
        }
      ]
    },
    {
      "cell_type": "code",
      "source": [
        "df['Y2016'].isnull().mean() *100"
      ],
      "metadata": {
        "colab": {
          "base_uri": "https://localhost:8080/"
        },
        "id": "VZ8CXk3MnLEH",
        "outputId": "54013d6f-911c-4cb6-e379-3abe8afc22ea"
      },
      "execution_count": 46,
      "outputs": [
        {
          "output_type": "execute_result",
          "data": {
            "text/plain": [
              "2.5187470259094566"
            ]
          },
          "metadata": {},
          "execution_count": 46
        }
      ]
    },
    {
      "cell_type": "code",
      "source": [
        "df.corr()['Element Code']"
      ],
      "metadata": {
        "colab": {
          "base_uri": "https://localhost:8080/"
        },
        "id": "OoDCbQUrn9UO",
        "outputId": "3d198118-be3f-41a2-80b0-91f6d9596e0d"
      },
      "execution_count": 53,
      "outputs": [
        {
          "output_type": "execute_result",
          "data": {
            "text/plain": [
              "Area Code      -0.000209\n",
              "Item Code      -0.024683\n",
              "Element Code    1.000000\n",
              "Y2014           0.024457\n",
              "Y2015           0.023889\n",
              "Y2016           0.023444\n",
              "Y2017           0.024254\n",
              "Y2018           0.024279\n",
              "Name: Element Code, dtype: float64"
            ]
          },
          "metadata": {},
          "execution_count": 53
        }
      ]
    },
    {
      "cell_type": "code",
      "source": [
        "df.groupby('Element').sum().loc['Import Quantity','Y2014':].idxmax()"
      ],
      "metadata": {
        "colab": {
          "base_uri": "https://localhost:8080/",
          "height": 35
        },
        "id": "0C5IHhmcoF7V",
        "outputId": "da9d0e9b-984e-44a9-e491-21c7a4c4dc54"
      },
      "execution_count": 61,
      "outputs": [
        {
          "output_type": "execute_result",
          "data": {
            "application/vnd.google.colaboratory.intrinsic+json": {
              "type": "string"
            },
            "text/plain": [
              "'Y2017'"
            ]
          },
          "metadata": {},
          "execution_count": 61
        }
      ]
    },
    {
      "cell_type": "code",
      "source": [
        "df.groupby('Element').sum().loc['Production','Y2014']"
      ],
      "metadata": {
        "colab": {
          "base_uri": "https://localhost:8080/"
        },
        "id": "T14GWXtco7Y2",
        "outputId": "96adfcdd-7260-4399-f275-24661a01c8f7"
      },
      "execution_count": 64,
      "outputs": [
        {
          "output_type": "execute_result",
          "data": {
            "text/plain": [
              "1931287.7500000005"
            ]
          },
          "metadata": {},
          "execution_count": 64
        }
      ]
    },
    {
      "cell_type": "code",
      "source": [
        "df[['Y2018','Element']].groupby('Element').sum().idxmax()"
      ],
      "metadata": {
        "colab": {
          "base_uri": "https://localhost:8080/"
        },
        "id": "Zi4mOiX-paSB",
        "outputId": "b567c265-be50-4102-9b3e-b76d4a513a2c"
      },
      "execution_count": 68,
      "outputs": [
        {
          "output_type": "execute_result",
          "data": {
            "text/plain": [
              "Y2018    Domestic supply quantity\n",
              "dtype: object"
            ]
          },
          "metadata": {},
          "execution_count": 68
        }
      ]
    },
    {
      "cell_type": "code",
      "source": [
        "df[['Y2018','Element']].groupby('Element').sum().sort_values('Y2018').iloc[2]"
      ],
      "metadata": {
        "colab": {
          "base_uri": "https://localhost:8080/"
        },
        "id": "9gZKHwcKp2g9",
        "outputId": "03474202-0758-4ff0-e517-d785aedd5e82"
      },
      "execution_count": 75,
      "outputs": [
        {
          "output_type": "execute_result",
          "data": {
            "text/plain": [
              "Y2018    11833.56\n",
              "Name: Protein supply quantity (g/capita/day), dtype: float64"
            ]
          },
          "metadata": {},
          "execution_count": 75
        }
      ]
    },
    {
      "cell_type": "code",
      "source": [
        "df[['Element','Area','Y2018']].groupby(['Element','Area']).sum().loc[['Import Quantity']]"
      ],
      "metadata": {
        "colab": {
          "base_uri": "https://localhost:8080/",
          "height": 1000
        },
        "id": "2tppcVz0qXjO",
        "outputId": "8ba663bd-2b85-4668-d9ff-60317ada31ce"
      },
      "execution_count": 85,
      "outputs": [
        {
          "output_type": "execute_result",
          "data": {
            "text/html": [
              "\n",
              "  <div id=\"df-bfd6ba48-dd9f-43ff-b947-871430145e6a\">\n",
              "    <div class=\"colab-df-container\">\n",
              "      <div>\n",
              "<style scoped>\n",
              "    .dataframe tbody tr th:only-of-type {\n",
              "        vertical-align: middle;\n",
              "    }\n",
              "\n",
              "    .dataframe tbody tr th {\n",
              "        vertical-align: top;\n",
              "    }\n",
              "\n",
              "    .dataframe thead th {\n",
              "        text-align: right;\n",
              "    }\n",
              "</style>\n",
              "<table border=\"1\" class=\"dataframe\">\n",
              "  <thead>\n",
              "    <tr style=\"text-align: right;\">\n",
              "      <th></th>\n",
              "      <th></th>\n",
              "      <th>Y2018</th>\n",
              "    </tr>\n",
              "    <tr>\n",
              "      <th>Element</th>\n",
              "      <th>Area</th>\n",
              "      <th></th>\n",
              "    </tr>\n",
              "  </thead>\n",
              "  <tbody>\n",
              "    <tr>\n",
              "      <th rowspan=\"49\" valign=\"top\">Import Quantity</th>\n",
              "      <th>Algeria</th>\n",
              "      <td>36238.29</td>\n",
              "    </tr>\n",
              "    <tr>\n",
              "      <th>Angola</th>\n",
              "      <td>7769.67</td>\n",
              "    </tr>\n",
              "    <tr>\n",
              "      <th>Benin</th>\n",
              "      <td>7008.24</td>\n",
              "    </tr>\n",
              "    <tr>\n",
              "      <th>Botswana</th>\n",
              "      <td>1908.42</td>\n",
              "    </tr>\n",
              "    <tr>\n",
              "      <th>Burkina Faso</th>\n",
              "      <td>2605.64</td>\n",
              "    </tr>\n",
              "    <tr>\n",
              "      <th>Cabo Verde</th>\n",
              "      <td>499.66</td>\n",
              "    </tr>\n",
              "    <tr>\n",
              "      <th>Cameroon</th>\n",
              "      <td>4188.88</td>\n",
              "    </tr>\n",
              "    <tr>\n",
              "      <th>Central African Republic</th>\n",
              "      <td>75.02</td>\n",
              "    </tr>\n",
              "    <tr>\n",
              "      <th>Chad</th>\n",
              "      <td>491.95</td>\n",
              "    </tr>\n",
              "    <tr>\n",
              "      <th>Comoros</th>\n",
              "      <td>2.92</td>\n",
              "    </tr>\n",
              "    <tr>\n",
              "      <th>Congo</th>\n",
              "      <td>1785.27</td>\n",
              "    </tr>\n",
              "    <tr>\n",
              "      <th>Côte d'Ivoire</th>\n",
              "      <td>9271.21</td>\n",
              "    </tr>\n",
              "    <tr>\n",
              "      <th>Djibouti</th>\n",
              "      <td>3784.92</td>\n",
              "    </tr>\n",
              "    <tr>\n",
              "      <th>Egypt</th>\n",
              "      <td>53954.20</td>\n",
              "    </tr>\n",
              "    <tr>\n",
              "      <th>Eswatini</th>\n",
              "      <td>936.53</td>\n",
              "    </tr>\n",
              "    <tr>\n",
              "      <th>Ethiopia</th>\n",
              "      <td>5655.24</td>\n",
              "    </tr>\n",
              "    <tr>\n",
              "      <th>Ethiopia PDR</th>\n",
              "      <td>0.00</td>\n",
              "    </tr>\n",
              "    <tr>\n",
              "      <th>Gabon</th>\n",
              "      <td>1079.75</td>\n",
              "    </tr>\n",
              "    <tr>\n",
              "      <th>Gambia</th>\n",
              "      <td>1212.10</td>\n",
              "    </tr>\n",
              "    <tr>\n",
              "      <th>Ghana</th>\n",
              "      <td>9914.68</td>\n",
              "    </tr>\n",
              "    <tr>\n",
              "      <th>Guinea</th>\n",
              "      <td>4707.95</td>\n",
              "    </tr>\n",
              "    <tr>\n",
              "      <th>Guinea-Bissau</th>\n",
              "      <td>497.72</td>\n",
              "    </tr>\n",
              "    <tr>\n",
              "      <th>Kenya</th>\n",
              "      <td>11188.96</td>\n",
              "    </tr>\n",
              "    <tr>\n",
              "      <th>Lesotho</th>\n",
              "      <td>1016.97</td>\n",
              "    </tr>\n",
              "    <tr>\n",
              "      <th>Liberia</th>\n",
              "      <td>1203.77</td>\n",
              "    </tr>\n",
              "    <tr>\n",
              "      <th>Madagascar</th>\n",
              "      <td>3214.79</td>\n",
              "    </tr>\n",
              "    <tr>\n",
              "      <th>Malawi</th>\n",
              "      <td>520.20</td>\n",
              "    </tr>\n",
              "    <tr>\n",
              "      <th>Mali</th>\n",
              "      <td>1962.06</td>\n",
              "    </tr>\n",
              "    <tr>\n",
              "      <th>Mauritania</th>\n",
              "      <td>3575.74</td>\n",
              "    </tr>\n",
              "    <tr>\n",
              "      <th>Mauritius</th>\n",
              "      <td>1672.39</td>\n",
              "    </tr>\n",
              "    <tr>\n",
              "      <th>Morocco</th>\n",
              "      <td>19448.50</td>\n",
              "    </tr>\n",
              "    <tr>\n",
              "      <th>Mozambique</th>\n",
              "      <td>5552.03</td>\n",
              "    </tr>\n",
              "    <tr>\n",
              "      <th>Namibia</th>\n",
              "      <td>1462.04</td>\n",
              "    </tr>\n",
              "    <tr>\n",
              "      <th>Niger</th>\n",
              "      <td>2390.20</td>\n",
              "    </tr>\n",
              "    <tr>\n",
              "      <th>Nigeria</th>\n",
              "      <td>21923.38</td>\n",
              "    </tr>\n",
              "    <tr>\n",
              "      <th>Rwanda</th>\n",
              "      <td>1734.44</td>\n",
              "    </tr>\n",
              "    <tr>\n",
              "      <th>Sao Tome and Principe</th>\n",
              "      <td>84.10</td>\n",
              "    </tr>\n",
              "    <tr>\n",
              "      <th>Senegal</th>\n",
              "      <td>8005.24</td>\n",
              "    </tr>\n",
              "    <tr>\n",
              "      <th>Seychelles</th>\n",
              "      <td>77.71</td>\n",
              "    </tr>\n",
              "    <tr>\n",
              "      <th>Sierra Leone</th>\n",
              "      <td>1659.22</td>\n",
              "    </tr>\n",
              "    <tr>\n",
              "      <th>South Africa</th>\n",
              "      <td>16192.45</td>\n",
              "    </tr>\n",
              "    <tr>\n",
              "      <th>Sudan</th>\n",
              "      <td>9130.11</td>\n",
              "    </tr>\n",
              "    <tr>\n",
              "      <th>Sudan (former)</th>\n",
              "      <td>0.00</td>\n",
              "    </tr>\n",
              "    <tr>\n",
              "      <th>Togo</th>\n",
              "      <td>3625.48</td>\n",
              "    </tr>\n",
              "    <tr>\n",
              "      <th>Tunisia</th>\n",
              "      <td>11030.91</td>\n",
              "    </tr>\n",
              "    <tr>\n",
              "      <th>Uganda</th>\n",
              "      <td>3209.87</td>\n",
              "    </tr>\n",
              "    <tr>\n",
              "      <th>United Republic of Tanzania</th>\n",
              "      <td>1863.68</td>\n",
              "    </tr>\n",
              "    <tr>\n",
              "      <th>Zambia</th>\n",
              "      <td>990.75</td>\n",
              "    </tr>\n",
              "    <tr>\n",
              "      <th>Zimbabwe</th>\n",
              "      <td>1673.84</td>\n",
              "    </tr>\n",
              "  </tbody>\n",
              "</table>\n",
              "</div>\n",
              "      <button class=\"colab-df-convert\" onclick=\"convertToInteractive('df-bfd6ba48-dd9f-43ff-b947-871430145e6a')\"\n",
              "              title=\"Convert this dataframe to an interactive table.\"\n",
              "              style=\"display:none;\">\n",
              "        \n",
              "  <svg xmlns=\"http://www.w3.org/2000/svg\" height=\"24px\"viewBox=\"0 0 24 24\"\n",
              "       width=\"24px\">\n",
              "    <path d=\"M0 0h24v24H0V0z\" fill=\"none\"/>\n",
              "    <path d=\"M18.56 5.44l.94 2.06.94-2.06 2.06-.94-2.06-.94-.94-2.06-.94 2.06-2.06.94zm-11 1L8.5 8.5l.94-2.06 2.06-.94-2.06-.94L8.5 2.5l-.94 2.06-2.06.94zm10 10l.94 2.06.94-2.06 2.06-.94-2.06-.94-.94-2.06-.94 2.06-2.06.94z\"/><path d=\"M17.41 7.96l-1.37-1.37c-.4-.4-.92-.59-1.43-.59-.52 0-1.04.2-1.43.59L10.3 9.45l-7.72 7.72c-.78.78-.78 2.05 0 2.83L4 21.41c.39.39.9.59 1.41.59.51 0 1.02-.2 1.41-.59l7.78-7.78 2.81-2.81c.8-.78.8-2.07 0-2.86zM5.41 20L4 18.59l7.72-7.72 1.47 1.35L5.41 20z\"/>\n",
              "  </svg>\n",
              "      </button>\n",
              "      \n",
              "  <style>\n",
              "    .colab-df-container {\n",
              "      display:flex;\n",
              "      flex-wrap:wrap;\n",
              "      gap: 12px;\n",
              "    }\n",
              "\n",
              "    .colab-df-convert {\n",
              "      background-color: #E8F0FE;\n",
              "      border: none;\n",
              "      border-radius: 50%;\n",
              "      cursor: pointer;\n",
              "      display: none;\n",
              "      fill: #1967D2;\n",
              "      height: 32px;\n",
              "      padding: 0 0 0 0;\n",
              "      width: 32px;\n",
              "    }\n",
              "\n",
              "    .colab-df-convert:hover {\n",
              "      background-color: #E2EBFA;\n",
              "      box-shadow: 0px 1px 2px rgba(60, 64, 67, 0.3), 0px 1px 3px 1px rgba(60, 64, 67, 0.15);\n",
              "      fill: #174EA6;\n",
              "    }\n",
              "\n",
              "    [theme=dark] .colab-df-convert {\n",
              "      background-color: #3B4455;\n",
              "      fill: #D2E3FC;\n",
              "    }\n",
              "\n",
              "    [theme=dark] .colab-df-convert:hover {\n",
              "      background-color: #434B5C;\n",
              "      box-shadow: 0px 1px 3px 1px rgba(0, 0, 0, 0.15);\n",
              "      filter: drop-shadow(0px 1px 2px rgba(0, 0, 0, 0.3));\n",
              "      fill: #FFFFFF;\n",
              "    }\n",
              "  </style>\n",
              "\n",
              "      <script>\n",
              "        const buttonEl =\n",
              "          document.querySelector('#df-bfd6ba48-dd9f-43ff-b947-871430145e6a button.colab-df-convert');\n",
              "        buttonEl.style.display =\n",
              "          google.colab.kernel.accessAllowed ? 'block' : 'none';\n",
              "\n",
              "        async function convertToInteractive(key) {\n",
              "          const element = document.querySelector('#df-bfd6ba48-dd9f-43ff-b947-871430145e6a');\n",
              "          const dataTable =\n",
              "            await google.colab.kernel.invokeFunction('convertToInteractive',\n",
              "                                                     [key], {});\n",
              "          if (!dataTable) return;\n",
              "\n",
              "          const docLinkHtml = 'Like what you see? Visit the ' +\n",
              "            '<a target=\"_blank\" href=https://colab.research.google.com/notebooks/data_table.ipynb>data table notebook</a>'\n",
              "            + ' to learn more about interactive tables.';\n",
              "          element.innerHTML = '';\n",
              "          dataTable['output_type'] = 'display_data';\n",
              "          await google.colab.output.renderOutput(dataTable, element);\n",
              "          const docLink = document.createElement('div');\n",
              "          docLink.innerHTML = docLinkHtml;\n",
              "          element.appendChild(docLink);\n",
              "        }\n",
              "      </script>\n",
              "    </div>\n",
              "  </div>\n",
              "  "
            ],
            "text/plain": [
              "                                                Y2018\n",
              "Element         Area                                 \n",
              "Import Quantity Algeria                      36238.29\n",
              "                Angola                        7769.67\n",
              "                Benin                         7008.24\n",
              "                Botswana                      1908.42\n",
              "                Burkina Faso                  2605.64\n",
              "                Cabo Verde                     499.66\n",
              "                Cameroon                      4188.88\n",
              "                Central African Republic        75.02\n",
              "                Chad                           491.95\n",
              "                Comoros                          2.92\n",
              "                Congo                         1785.27\n",
              "                Côte d'Ivoire                 9271.21\n",
              "                Djibouti                      3784.92\n",
              "                Egypt                        53954.20\n",
              "                Eswatini                       936.53\n",
              "                Ethiopia                      5655.24\n",
              "                Ethiopia PDR                     0.00\n",
              "                Gabon                         1079.75\n",
              "                Gambia                        1212.10\n",
              "                Ghana                         9914.68\n",
              "                Guinea                        4707.95\n",
              "                Guinea-Bissau                  497.72\n",
              "                Kenya                        11188.96\n",
              "                Lesotho                       1016.97\n",
              "                Liberia                       1203.77\n",
              "                Madagascar                    3214.79\n",
              "                Malawi                         520.20\n",
              "                Mali                          1962.06\n",
              "                Mauritania                    3575.74\n",
              "                Mauritius                     1672.39\n",
              "                Morocco                      19448.50\n",
              "                Mozambique                    5552.03\n",
              "                Namibia                       1462.04\n",
              "                Niger                         2390.20\n",
              "                Nigeria                      21923.38\n",
              "                Rwanda                        1734.44\n",
              "                Sao Tome and Principe           84.10\n",
              "                Senegal                       8005.24\n",
              "                Seychelles                      77.71\n",
              "                Sierra Leone                  1659.22\n",
              "                South Africa                 16192.45\n",
              "                Sudan                         9130.11\n",
              "                Sudan (former)                   0.00\n",
              "                Togo                          3625.48\n",
              "                Tunisia                      11030.91\n",
              "                Uganda                        3209.87\n",
              "                United Republic of Tanzania   1863.68\n",
              "                Zambia                         990.75\n",
              "                Zimbabwe                      1673.84"
            ]
          },
          "metadata": {},
          "execution_count": 85
        }
      ]
    },
    {
      "cell_type": "code",
      "source": [
        "df['Area'].nunique()"
      ],
      "metadata": {
        "colab": {
          "base_uri": "https://localhost:8080/"
        },
        "id": "a2Y9Wex6rI6X",
        "outputId": "a358262c-ad0a-4af6-9a39-9a9d83355552"
      },
      "execution_count": 86,
      "outputs": [
        {
          "output_type": "execute_result",
          "data": {
            "text/plain": [
              "49"
            ]
          },
          "metadata": {},
          "execution_count": 86
        }
      ]
    },
    {
      "cell_type": "code",
      "source": [
        ""
      ],
      "metadata": {
        "id": "YN_QPCZDsui7"
      },
      "execution_count": null,
      "outputs": []
    }
  ]
}